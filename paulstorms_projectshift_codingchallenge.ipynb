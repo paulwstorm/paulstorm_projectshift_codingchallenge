{
 "cells": [
  {
   "cell_type": "markdown",
   "metadata": {},
   "source": [
    "### Paul Storm's Project Shift Coding Challenge\n",
    "\n",
    "Thank for you for taking the time to look over my answers!"
   ]
  },
  {
   "cell_type": "markdown",
   "metadata": {},
   "source": [
    "### Problem 1"
   ]
  },
  {
   "cell_type": "code",
   "execution_count": 1,
   "metadata": {},
   "outputs": [],
   "source": [
    "def durham():\n",
    "    print(\"Durham is awesome!\")"
   ]
  },
  {
   "cell_type": "code",
   "execution_count": 2,
   "metadata": {
    "scrolled": true
   },
   "outputs": [
    {
     "name": "stdout",
     "output_type": "stream",
     "text": [
      "Durham is awesome!\n"
     ]
    }
   ],
   "source": [
    "durham()"
   ]
  },
  {
   "cell_type": "markdown",
   "metadata": {},
   "source": [
    "### Problem 2"
   ]
  },
  {
   "cell_type": "code",
   "execution_count": 3,
   "metadata": {
    "scrolled": true
   },
   "outputs": [
    {
     "name": "stdout",
     "output_type": "stream",
     "text": [
      "I love Kiss\n",
      "I love Aerosmith\n",
      "I love ACDC\n",
      "I love Led Zeppelin\n",
      "I love Nickelback\n"
     ]
    }
   ],
   "source": [
    "bands = ['Kiss', 'Aerosmith', 'ACDC', 'Led Zeppelin', 'Nickelback']\n",
    "\n",
    "for band in bands:\n",
    "    print(\"I love \" + band)"
   ]
  },
  {
   "cell_type": "markdown",
   "metadata": {},
   "source": [
    "### Problem 3"
   ]
  },
  {
   "cell_type": "code",
   "execution_count": 4,
   "metadata": {
    "scrolled": true
   },
   "outputs": [
    {
     "name": "stdout",
     "output_type": "stream",
     "text": [
      "I love Kiss\n",
      "I love Aerosmith\n",
      "I love ACDC\n",
      "I love Led Zeppelin\n",
      "I DON'T love Nickelback!\n"
     ]
    }
   ],
   "source": [
    "for i in range(len(bands)):\n",
    "    if bands[i] != \"Nickelback\":\n",
    "        print(\"I love \" + bands[i])\n",
    "    elif bands[i] == \"Nickelback\":\n",
    "        print(\"I DON'T love \" + bands[i] + \"!\")"
   ]
  },
  {
   "cell_type": "markdown",
   "metadata": {},
   "source": [
    "### Problem 4"
   ]
  },
  {
   "cell_type": "code",
   "execution_count": 5,
   "metadata": {},
   "outputs": [
    {
     "name": "stdout",
     "output_type": "stream",
     "text": [
      "133.0909090909091\n"
     ]
    }
   ],
   "source": [
    "array = [34, 203, 16, 46, 34, 432, 342, 124, 33, 188, 12]\n",
    "\n",
    "total = 0\n",
    "\n",
    "for i in range(len(array)):\n",
    "    total = total + array[i]\n",
    "\n",
    "avg = total/len(array)\n",
    "\n",
    "print(avg)"
   ]
  },
  {
   "cell_type": "markdown",
   "metadata": {},
   "source": [
    "### Problem 5"
   ]
  },
  {
   "cell_type": "code",
   "execution_count": 6,
   "metadata": {},
   "outputs": [
    {
     "name": "stdout",
     "output_type": "stream",
     "text": [
      "{'a': 1, 'b': 3, 'c': 2, 'd': 0, 'e': 1}\n"
     ]
    }
   ],
   "source": [
    "array = ['a', 'b', 'c', 'd', 'c', 'b', 'b', 'c', 'a', 'e', 'b', 'e']\n",
    "counts = {}\n",
    "\n",
    "for i in range(len(array)):\n",
    "    if array[i] not in counts:\n",
    "        counts[array[i]] = 0\n",
    "    else:\n",
    "        counts[array[i]] += 1"
   ]
  },
  {
   "cell_type": "code",
   "execution_count": 7,
   "metadata": {},
   "outputs": [
    {
     "name": "stdout",
     "output_type": "stream",
     "text": [
      "The most frequent item is: b with a count of: 3\n",
      "The least frequent item is: d with a count of: 0\n"
     ]
    }
   ],
   "source": [
    "max_count = \"\"\n",
    "min_count = \"\"\n",
    "\n",
    "for count in counts:\n",
    "    \n",
    "    if max_count == \"\":\n",
    "        max_count = count\n",
    "        min_count = count\n",
    "        \n",
    "    current = count\n",
    "    \n",
    "    if counts[max_count] < counts[current]:\n",
    "        max_count = count\n",
    "    if counts[min_count] > counts[current]:\n",
    "        min_count = count\n",
    "        \n",
    "print(\"The most frequent item is: \" + max_count + \" with a count of: \" + str(counts[max_count]))\n",
    "print(\"The least frequent item is: \" + min_count + \" with a count of: \" + str(counts[min_count]))\n"
   ]
  },
  {
   "cell_type": "markdown",
   "metadata": {},
   "source": [
    "### Problem 6"
   ]
  },
  {
   "cell_type": "code",
   "execution_count": 13,
   "metadata": {},
   "outputs": [
    {
     "name": "stdout",
     "output_type": "stream",
     "text": [
      "['a', 'a', 'b', 'b', 'c']\n"
     ]
    }
   ],
   "source": [
    "array_1 = ['a', 'b', 'b', 'a', 'e', 'c', 'c', 'g']\n",
    "array_2 = ['a', 'b', 'c', 'a', 'a', 'b', 'd']\n",
    "counts_1 = {}\n",
    "counts_2 = {}\n",
    "overlap = {}\n",
    "new_array = []\n",
    "\n",
    "for letter in array_1:\n",
    "    if letter not in counts_1:\n",
    "        counts_1[letter] = 1\n",
    "    else:\n",
    "        counts_1[letter] += 1\n",
    "        \n",
    "for letter in array_2:\n",
    "    if letter not in counts_2:\n",
    "        counts_2[letter] = 1\n",
    "    else:\n",
    "        counts_2[letter] += 1\n",
    "\n",
    "for count in counts_1:\n",
    "    if count in counts_2:\n",
    "        if counts_1[count] > counts_2[count]:\n",
    "            overlap[count] = counts_2[count]\n",
    "        else:\n",
    "            overlap[count] = counts_1[count]\n",
    "\n",
    "\n",
    "for letter in overlap:\n",
    "    for i in range(overlap[letter]):\n",
    "        new_array.append(letter)\n",
    "\n",
    "print(new_array)"
   ]
  },
  {
   "cell_type": "markdown",
   "metadata": {},
   "source": [
    "### Problem 7"
   ]
  },
  {
   "cell_type": "code",
   "execution_count": 14,
   "metadata": {},
   "outputs": [
    {
     "name": "stdout",
     "output_type": "stream",
     "text": [
      "{100: 17, 20: 2, 1: 4}\n"
     ]
    }
   ],
   "source": [
    "def bills(cost):\n",
    "    bills = [100,50,20,10,5,1]\n",
    "    tender = {}\n",
    "    to_pay = cost\n",
    "    \n",
    "    for bill in bills:\n",
    "        if int(to_pay / bill) != 0:\n",
    "            tender[bill] = int(to_pay / bill)\n",
    "            to_pay = to_pay - (int(to_pay / bill) * bill)\n",
    "        \n",
    "    return(tender)\n",
    "\n",
    "print(bills(1744))"
   ]
  },
  {
   "cell_type": "markdown",
   "metadata": {},
   "source": [
    "### Problem 7 - Bonus Round!"
   ]
  },
  {
   "cell_type": "code",
   "execution_count": 11,
   "metadata": {
    "scrolled": true
   },
   "outputs": [
    {
     "name": "stdout",
     "output_type": "stream",
     "text": [
      "cash money is not legal tender!\n",
      "\n",
      "\n",
      "27 is not legal tender!\n",
      "\n",
      "\n",
      "Please organize your wallet!\n",
      "\n",
      "\n",
      "{20: 87, 10: 1, 1: 4}\n",
      "\n",
      "\n",
      "17.1 is not legal tender!\n",
      "\n",
      "\n",
      "dough is not legal tender!\n",
      "\n",
      "\n",
      "Please organize your wallet!\n",
      "\n",
      "\n",
      "{100: 17, 50: 1, 1: 4}\n"
     ]
    }
   ],
   "source": [
    "def budget_to_bills(cost, bills):    \n",
    "    tender = {}\n",
    "    to_pay = cost\n",
    "    int_bills = []\n",
    "    ordered_bills = []\n",
    "    \n",
    "    for bill in bills:\n",
    "        if type(bill) != int:\n",
    "            print(str(bill) + \" is not legal tender!\")\n",
    "            print(\"\\n\")\n",
    "        elif type(bill) == int:\n",
    "            int_bills.append(bill)\n",
    "    \n",
    "    ordered_bills = sorted(int_bills, reverse=True)        \n",
    "    \n",
    "    for bill in ordered_bills:\n",
    "        if bill in [100,50,20,10,5,2,1] and int(to_pay / bill) != 0:\n",
    "            tender[bill] = int(to_pay / bill)\n",
    "            to_pay = to_pay - (int(to_pay / bill) * bill)\n",
    "        elif bill not in [100,50,20,10,5,2,1]:\n",
    "            print(str(bill) + \" is not legal tender!\")\n",
    "            print(\"\\n\")\n",
    "    \n",
    "    if ordered_bills != bills:\n",
    "        print(\"Please organize your wallet!\")\n",
    "        print(\"\\n\")\n",
    "        \n",
    "    return(tender)\n",
    "        \n",
    "print(budget_to_bills(1754, [20, 10, 5, 1, 27,'cash money']))\n",
    "print(\"\\n\")\n",
    "print(budget_to_bills(1754, [100, 20, 50, 10, 5, 1, 17.1, \"dough\"]))"
   ]
  },
  {
   "cell_type": "markdown",
   "metadata": {},
   "source": [
    "#### Thank you again for reading through my challenge solutions! I hope to speak with you soon\n",
    "\n",
    "- Paul Storm"
   ]
  },
  {
   "cell_type": "code",
   "execution_count": null,
   "metadata": {},
   "outputs": [],
   "source": []
  }
 ],
 "metadata": {
  "kernelspec": {
   "display_name": "Python 3",
   "language": "python",
   "name": "python3"
  },
  "language_info": {
   "codemirror_mode": {
    "name": "ipython",
    "version": 3
   },
   "file_extension": ".py",
   "mimetype": "text/x-python",
   "name": "python",
   "nbconvert_exporter": "python",
   "pygments_lexer": "ipython3",
   "version": "3.6.8"
  }
 },
 "nbformat": 4,
 "nbformat_minor": 2
}
